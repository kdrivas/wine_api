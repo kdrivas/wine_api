{
 "cells": [
  {
   "cell_type": "code",
   "execution_count": 5,
   "metadata": {},
   "outputs": [],
   "source": [
    "import pandas as pd\n",
    "from sklearn import tree\n",
    "from fire import Fire\n",
    "import warnings \n",
    "import git\n",
    "\n",
    "from sklearn.metrics import mean_squared_error\n",
    "from sklearn.model_selection import train_test_split\n",
    "import mlflow "
   ]
  },
  {
   "cell_type": "code",
   "execution_count": 2,
   "metadata": {},
   "outputs": [],
   "source": [
    "df = pd.read_csv('s3://rimac-analytics-temporal/individuals/Dante/mlflow_testing/data/input/prepro/wine.csv')\n",
    "train, valid = train_test_split(df, random_state=0)\n",
    "train_x, train_y = train.drop('quality', axis=1), train['quality']\n",
    "valid_x, valid_y = valid.drop('quality', axis=1), valid['quality']\n",
    "\n",
    "# build model architecture\n",
    "clf = tree.DecisionTreeRegressor(max_depth=1, min_samples_leaf=100, random_state=0)\n",
    "clf = clf.fit(train_x, train_y)\n",
    "y_trn_pred = clf.predict(valid_x)"
   ]
  },
  {
   "cell_type": "code",
   "execution_count": 6,
   "metadata": {},
   "outputs": [
    {
     "data": {
      "text/plain": [
       "0.641866102914756"
      ]
     },
     "execution_count": 6,
     "metadata": {},
     "output_type": "execute_result"
    }
   ],
   "source": [
    "mean_squared_error(valid_y, y_trn_pred)"
   ]
  },
  {
   "cell_type": "code",
   "execution_count": null,
   "metadata": {},
   "outputs": [],
   "source": []
  }
 ],
 "metadata": {
  "kernelspec": {
   "display_name": "conda_python3",
   "language": "python",
   "name": "conda_python3"
  },
  "language_info": {
   "codemirror_mode": {
    "name": "ipython",
    "version": 3
   },
   "file_extension": ".py",
   "mimetype": "text/x-python",
   "name": "python",
   "nbconvert_exporter": "python",
   "pygments_lexer": "ipython3",
   "version": "3.6.10"
  }
 },
 "nbformat": 4,
 "nbformat_minor": 4
}
